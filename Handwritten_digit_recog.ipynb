{
  "nbformat": 4,
  "nbformat_minor": 0,
  "metadata": {
    "colab": {
      "provenance": [],
      "gpuType": "T4",
      "authorship_tag": "ABX9TyMgIyKddiuRkNhEswcmMnT0",
      "include_colab_link": true
    },
    "kernelspec": {
      "name": "python3",
      "display_name": "Python 3"
    },
    "language_info": {
      "name": "python"
    },
    "accelerator": "GPU"
  },
  "cells": [
    {
      "cell_type": "markdown",
      "metadata": {
        "id": "view-in-github",
        "colab_type": "text"
      },
      "source": [
        "<a href=\"https://colab.research.google.com/github/harshhxrajputt/Pytorch/blob/main/Handwritten_digit_recog.ipynb\" target=\"_parent\"><img src=\"https://colab.research.google.com/assets/colab-badge.svg\" alt=\"Open In Colab\"/></a>"
      ]
    },
    {
      "cell_type": "code",
      "execution_count": 1,
      "metadata": {
        "id": "hGVnqluBkqUA"
      },
      "outputs": [],
      "source": [
        "from torchvision import datasets\n",
        "from torchvision.transforms import ToTensor"
      ]
    },
    {
      "cell_type": "code",
      "source": [
        "# mnist is a dataset for digit\n",
        "train_data = datasets.MNIST(\n",
        "    root = 'data',\n",
        "    train = True,\n",
        "    transform  = ToTensor(),\n",
        "    download = True\n",
        ")\n",
        "test_data = datasets.MNIST(\n",
        "    root = 'data',\n",
        "    train = False,\n",
        "    transform  = ToTensor(),\n",
        "    download = True\n",
        ")"
      ],
      "metadata": {
        "colab": {
          "base_uri": "https://localhost:8080/"
        },
        "id": "jGjj2YyhmiGb",
        "outputId": "a0055ab8-343b-40fb-f700-4a60b3789414"
      },
      "execution_count": 2,
      "outputs": [
        {
          "output_type": "stream",
          "name": "stdout",
          "text": [
            "Downloading http://yann.lecun.com/exdb/mnist/train-images-idx3-ubyte.gz\n",
            "Failed to download (trying next):\n",
            "HTTP Error 403: Forbidden\n",
            "\n",
            "Downloading https://ossci-datasets.s3.amazonaws.com/mnist/train-images-idx3-ubyte.gz\n",
            "Downloading https://ossci-datasets.s3.amazonaws.com/mnist/train-images-idx3-ubyte.gz to data/MNIST/raw/train-images-idx3-ubyte.gz\n"
          ]
        },
        {
          "output_type": "stream",
          "name": "stderr",
          "text": [
            "100%|██████████| 9912422/9912422 [00:00<00:00, 17651441.57it/s]\n"
          ]
        },
        {
          "output_type": "stream",
          "name": "stdout",
          "text": [
            "Extracting data/MNIST/raw/train-images-idx3-ubyte.gz to data/MNIST/raw\n",
            "\n",
            "Downloading http://yann.lecun.com/exdb/mnist/train-labels-idx1-ubyte.gz\n",
            "Failed to download (trying next):\n",
            "HTTP Error 403: Forbidden\n",
            "\n",
            "Downloading https://ossci-datasets.s3.amazonaws.com/mnist/train-labels-idx1-ubyte.gz\n",
            "Downloading https://ossci-datasets.s3.amazonaws.com/mnist/train-labels-idx1-ubyte.gz to data/MNIST/raw/train-labels-idx1-ubyte.gz\n"
          ]
        },
        {
          "output_type": "stream",
          "name": "stderr",
          "text": [
            "100%|██████████| 28881/28881 [00:00<00:00, 497266.84it/s]\n"
          ]
        },
        {
          "output_type": "stream",
          "name": "stdout",
          "text": [
            "Extracting data/MNIST/raw/train-labels-idx1-ubyte.gz to data/MNIST/raw\n",
            "\n",
            "Downloading http://yann.lecun.com/exdb/mnist/t10k-images-idx3-ubyte.gz\n",
            "Failed to download (trying next):\n",
            "HTTP Error 403: Forbidden\n",
            "\n",
            "Downloading https://ossci-datasets.s3.amazonaws.com/mnist/t10k-images-idx3-ubyte.gz\n",
            "Downloading https://ossci-datasets.s3.amazonaws.com/mnist/t10k-images-idx3-ubyte.gz to data/MNIST/raw/t10k-images-idx3-ubyte.gz\n"
          ]
        },
        {
          "output_type": "stream",
          "name": "stderr",
          "text": [
            "100%|██████████| 1648877/1648877 [00:00<00:00, 4475001.71it/s]\n"
          ]
        },
        {
          "output_type": "stream",
          "name": "stdout",
          "text": [
            "Extracting data/MNIST/raw/t10k-images-idx3-ubyte.gz to data/MNIST/raw\n",
            "\n",
            "Downloading http://yann.lecun.com/exdb/mnist/t10k-labels-idx1-ubyte.gz\n",
            "Failed to download (trying next):\n",
            "HTTP Error 403: Forbidden\n",
            "\n",
            "Downloading https://ossci-datasets.s3.amazonaws.com/mnist/t10k-labels-idx1-ubyte.gz\n",
            "Downloading https://ossci-datasets.s3.amazonaws.com/mnist/t10k-labels-idx1-ubyte.gz to data/MNIST/raw/t10k-labels-idx1-ubyte.gz\n"
          ]
        },
        {
          "output_type": "stream",
          "name": "stderr",
          "text": [
            "100%|██████████| 4542/4542 [00:00<00:00, 8478205.95it/s]"
          ]
        },
        {
          "output_type": "stream",
          "name": "stdout",
          "text": [
            "Extracting data/MNIST/raw/t10k-labels-idx1-ubyte.gz to data/MNIST/raw\n",
            "\n"
          ]
        },
        {
          "output_type": "stream",
          "name": "stderr",
          "text": [
            "\n"
          ]
        }
      ]
    },
    {
      "cell_type": "code",
      "source": [
        "train_data.data.shape\n"
      ],
      "metadata": {
        "colab": {
          "base_uri": "https://localhost:8080/"
        },
        "id": "Wh8g97Z7oOSd",
        "outputId": "b6eef3fb-61db-4c33-c75d-016ad19fa3c0"
      },
      "execution_count": 56,
      "outputs": [
        {
          "output_type": "execute_result",
          "data": {
            "text/plain": [
              "torch.Size([60000, 28, 28])"
            ]
          },
          "metadata": {},
          "execution_count": 56
        }
      ]
    },
    {
      "cell_type": "code",
      "source": [
        "from torch.utils.data import DataLoader\n",
        "\n",
        "Loaders = {\n",
        "    'train': DataLoader(train_data,\n",
        "                        batch_size=100,\n",
        "                        shuffle=True,\n",
        "                        num_workers=1),\n",
        "\n",
        "    'test': DataLoader(test_data,\n",
        "                        batch_size=100,\n",
        "                        shuffle=True,\n",
        "                        num_workers=1),\n",
        "\n",
        "}"
      ],
      "metadata": {
        "id": "f2kq7kkppYIh"
      },
      "execution_count": 32,
      "outputs": []
    },
    {
      "cell_type": "code",
      "source": [
        "Loaders"
      ],
      "metadata": {
        "colab": {
          "base_uri": "https://localhost:8080/"
        },
        "id": "RUxzXgbrqM3h",
        "outputId": "b66531bd-23d2-4bbb-8cb5-c4a1ff713b7b"
      },
      "execution_count": 33,
      "outputs": [
        {
          "output_type": "execute_result",
          "data": {
            "text/plain": [
              "{'train': <torch.utils.data.dataloader.DataLoader at 0x7b95dd035360>,\n",
              " 'test': <torch.utils.data.dataloader.DataLoader at 0x7b95dd0366b0>}"
            ]
          },
          "metadata": {},
          "execution_count": 33
        }
      ]
    },
    {
      "cell_type": "code",
      "source": [
        "import torch.nn as nn\n",
        "import torch.nn.functional as F\n",
        "import torch.optim as optim"
      ],
      "metadata": {
        "id": "h2KA5RpTsnuI"
      },
      "execution_count": 34,
      "outputs": []
    },
    {
      "cell_type": "code",
      "source": [
        "import torch.nn as nn\n",
        "import torch.nn.functional as F\n",
        "\n",
        "class CNN(nn.Module):\n",
        "    def __init__(self):\n",
        "      super(CNN, self).__init__()\n",
        "      self.conv1 = nn.Conv2d(1, 10, kernel_size=5)\n",
        "      self.conv2 = nn.Conv2d(10, 20, kernel_size=5)\n",
        "      self.conv2_drop = nn.Dropout2d()\n",
        "      self.fc1 = nn.Linear(320, 50)\n",
        "      self.fc2 = nn.Linear(50, 10)\n",
        "\n",
        "    def forward(self, x):\n",
        "        x = F.relu(F.max_pool2d(self.conv1(x), 2))\n",
        "        x = F.relu(F.max_pool2d(self.conv2_drop(self.conv2(x)), 2))\n",
        "        x = x.view(-1, 320)\n",
        "        x = F.relu(self.fc1(x))\n",
        "        x = F.dropout(x, training=self.training)\n",
        "        x = self.fc2(x)\n",
        "        return F.log_softmax(x, dim=1)"
      ],
      "metadata": {
        "id": "Jh8YTqts7jRb"
      },
      "execution_count": 68,
      "outputs": []
    },
    {
      "cell_type": "code",
      "source": [
        "# moving all to gpu cuda for faster running\n",
        "import torch\n",
        "device = torch.device('cuda' if torch.cuda.is_available() else 'cpu'  )\n",
        "model = CNN().to(device)\n",
        "optimizer = optim.Adam(model.parameters() , lr=0.001)\n",
        "loss_fn = nn.CrossEntropyLoss()\n",
        "\n",
        "def train(epoch):\n",
        "  model.train()\n",
        "  for batch_idx, (data, target) in enumerate( Loaders['train']):\n",
        "    data, target = data.to(device) , target.to(device)\n",
        "    optimizer.zero_grad() #setting the gradients to zero for each batch\n",
        "    output = model(data)\n",
        "    loss = loss_fn(output, target)\n",
        "    loss.backward() # back propagating and storing the gradients into the tensors\n",
        "    optimizer.step()\n",
        "    if batch_idx % 20 == 0:\n",
        "      print(f'TRrain Epoch: {epoch} [{batch_idx * len(data)} /{ len(Loaders[\"train\"].dataset)} ({100.*batch_idx /len(Loaders[\"train\"]):.0f}%)]\\t{loss.item():.6f}')\n",
        "\n",
        "def test():\n",
        "  model.eval()\n",
        "  test_loss = 0\n",
        "  correct = 0\n",
        "\n",
        "  with torch.no_grad():\n",
        "    for data, target in Loaders['test']:\n",
        "      data, target = data.to(device), target.to(device)\n",
        "      output = model(data)\n",
        "      test_loss += loss_fn(output, target).item()\n",
        "      pred = output.argmax(dim=1, keepdim=True)\n",
        "      correct += pred.eq(target.view_as(pred)).sum().item()\n",
        "  test_loss /= len(Loaders['test'].dataset)\n",
        "  print(f'\\nTest set: Average Loss: {test_loss:4f}, Accuracy{correct}/{len(Loaders[\"test\"].dataset)} ({100. *correct/ len(Loaders[\"test\"].dataset ):.0f}%\\n) ')\n"
      ],
      "metadata": {
        "id": "60L4Y0DikTyB"
      },
      "execution_count": 72,
      "outputs": []
    },
    {
      "cell_type": "code",
      "source": [
        "for epoch in range(1,11):\n",
        "  train(epoch)\n",
        "  test()\n"
      ],
      "metadata": {
        "colab": {
          "base_uri": "https://localhost:8080/"
        },
        "id": "tPCuuIX9HM7y",
        "outputId": "be236282-0f5e-4c38-ef72-18f6ce7d7178"
      },
      "execution_count": 73,
      "outputs": [
        {
          "output_type": "stream",
          "name": "stdout",
          "text": [
            "TRrain Epoch: 1 [0 /60000 (0%)]\t2.297361\n",
            "TRrain Epoch: 1 [2000 /60000 (3%)]\t2.193526\n",
            "TRrain Epoch: 1 [4000 /60000 (7%)]\t1.885422\n",
            "TRrain Epoch: 1 [6000 /60000 (10%)]\t1.145741\n",
            "TRrain Epoch: 1 [8000 /60000 (13%)]\t0.879689\n",
            "TRrain Epoch: 1 [10000 /60000 (17%)]\t0.713854\n",
            "TRrain Epoch: 1 [12000 /60000 (20%)]\t0.611394\n",
            "TRrain Epoch: 1 [14000 /60000 (23%)]\t0.572331\n",
            "TRrain Epoch: 1 [16000 /60000 (27%)]\t0.611766\n",
            "TRrain Epoch: 1 [18000 /60000 (30%)]\t0.665966\n",
            "TRrain Epoch: 1 [20000 /60000 (33%)]\t0.479092\n",
            "TRrain Epoch: 1 [22000 /60000 (37%)]\t0.582341\n",
            "TRrain Epoch: 1 [24000 /60000 (40%)]\t0.546663\n",
            "TRrain Epoch: 1 [26000 /60000 (43%)]\t0.418194\n",
            "TRrain Epoch: 1 [28000 /60000 (47%)]\t0.382299\n",
            "TRrain Epoch: 1 [30000 /60000 (50%)]\t0.463208\n",
            "TRrain Epoch: 1 [32000 /60000 (53%)]\t0.368947\n",
            "TRrain Epoch: 1 [34000 /60000 (57%)]\t0.438419\n",
            "TRrain Epoch: 1 [36000 /60000 (60%)]\t0.433755\n",
            "TRrain Epoch: 1 [38000 /60000 (63%)]\t0.466149\n",
            "TRrain Epoch: 1 [40000 /60000 (67%)]\t0.349958\n",
            "TRrain Epoch: 1 [42000 /60000 (70%)]\t0.372004\n",
            "TRrain Epoch: 1 [44000 /60000 (73%)]\t0.313309\n",
            "TRrain Epoch: 1 [46000 /60000 (77%)]\t0.279509\n",
            "TRrain Epoch: 1 [48000 /60000 (80%)]\t0.292547\n",
            "TRrain Epoch: 1 [50000 /60000 (83%)]\t0.314861\n",
            "TRrain Epoch: 1 [52000 /60000 (87%)]\t0.619975\n",
            "TRrain Epoch: 1 [54000 /60000 (90%)]\t0.235315\n",
            "TRrain Epoch: 1 [56000 /60000 (93%)]\t0.296330\n",
            "TRrain Epoch: 1 [58000 /60000 (97%)]\t0.466552\n",
            "\n",
            "Test set: Average Loss: 0.001282, Accuracy9601/10000 (96%\n",
            ") \n",
            "TRrain Epoch: 2 [0 /60000 (0%)]\t0.292324\n",
            "TRrain Epoch: 2 [2000 /60000 (3%)]\t0.356831\n",
            "TRrain Epoch: 2 [4000 /60000 (7%)]\t0.320488\n",
            "TRrain Epoch: 2 [6000 /60000 (10%)]\t0.484548\n",
            "TRrain Epoch: 2 [8000 /60000 (13%)]\t0.461246\n",
            "TRrain Epoch: 2 [10000 /60000 (17%)]\t0.294863\n",
            "TRrain Epoch: 2 [12000 /60000 (20%)]\t0.346934\n",
            "TRrain Epoch: 2 [14000 /60000 (23%)]\t0.172642\n",
            "TRrain Epoch: 2 [16000 /60000 (27%)]\t0.315931\n",
            "TRrain Epoch: 2 [18000 /60000 (30%)]\t0.312327\n",
            "TRrain Epoch: 2 [20000 /60000 (33%)]\t0.178546\n",
            "TRrain Epoch: 2 [22000 /60000 (37%)]\t0.258313\n",
            "TRrain Epoch: 2 [24000 /60000 (40%)]\t0.354068\n",
            "TRrain Epoch: 2 [26000 /60000 (43%)]\t0.267829\n",
            "TRrain Epoch: 2 [28000 /60000 (47%)]\t0.289976\n",
            "TRrain Epoch: 2 [30000 /60000 (50%)]\t0.566732\n",
            "TRrain Epoch: 2 [32000 /60000 (53%)]\t0.278019\n",
            "TRrain Epoch: 2 [34000 /60000 (57%)]\t0.303158\n",
            "TRrain Epoch: 2 [36000 /60000 (60%)]\t0.233123\n",
            "TRrain Epoch: 2 [38000 /60000 (63%)]\t0.331096\n",
            "TRrain Epoch: 2 [40000 /60000 (67%)]\t0.231723\n",
            "TRrain Epoch: 2 [42000 /60000 (70%)]\t0.269455\n",
            "TRrain Epoch: 2 [44000 /60000 (73%)]\t0.255651\n",
            "TRrain Epoch: 2 [46000 /60000 (77%)]\t0.264091\n",
            "TRrain Epoch: 2 [48000 /60000 (80%)]\t0.211848\n",
            "TRrain Epoch: 2 [50000 /60000 (83%)]\t0.193099\n",
            "TRrain Epoch: 2 [52000 /60000 (87%)]\t0.305891\n",
            "TRrain Epoch: 2 [54000 /60000 (90%)]\t0.275312\n",
            "TRrain Epoch: 2 [56000 /60000 (93%)]\t0.338167\n",
            "TRrain Epoch: 2 [58000 /60000 (97%)]\t0.246972\n",
            "\n",
            "Test set: Average Loss: 0.000919, Accuracy9705/10000 (97%\n",
            ") \n",
            "TRrain Epoch: 3 [0 /60000 (0%)]\t0.237064\n",
            "TRrain Epoch: 3 [2000 /60000 (3%)]\t0.131576\n",
            "TRrain Epoch: 3 [4000 /60000 (7%)]\t0.177136\n",
            "TRrain Epoch: 3 [6000 /60000 (10%)]\t0.264055\n",
            "TRrain Epoch: 3 [8000 /60000 (13%)]\t0.232575\n",
            "TRrain Epoch: 3 [10000 /60000 (17%)]\t0.254364\n",
            "TRrain Epoch: 3 [12000 /60000 (20%)]\t0.430482\n",
            "TRrain Epoch: 3 [14000 /60000 (23%)]\t0.097896\n",
            "TRrain Epoch: 3 [16000 /60000 (27%)]\t0.294504\n",
            "TRrain Epoch: 3 [18000 /60000 (30%)]\t0.206542\n",
            "TRrain Epoch: 3 [20000 /60000 (33%)]\t0.208239\n",
            "TRrain Epoch: 3 [22000 /60000 (37%)]\t0.187798\n",
            "TRrain Epoch: 3 [24000 /60000 (40%)]\t0.240266\n",
            "TRrain Epoch: 3 [26000 /60000 (43%)]\t0.261774\n",
            "TRrain Epoch: 3 [28000 /60000 (47%)]\t0.307571\n",
            "TRrain Epoch: 3 [30000 /60000 (50%)]\t0.177901\n",
            "TRrain Epoch: 3 [32000 /60000 (53%)]\t0.247973\n",
            "TRrain Epoch: 3 [34000 /60000 (57%)]\t0.267028\n",
            "TRrain Epoch: 3 [36000 /60000 (60%)]\t0.272451\n",
            "TRrain Epoch: 3 [38000 /60000 (63%)]\t0.320510\n",
            "TRrain Epoch: 3 [40000 /60000 (67%)]\t0.253932\n",
            "TRrain Epoch: 3 [42000 /60000 (70%)]\t0.188009\n",
            "TRrain Epoch: 3 [44000 /60000 (73%)]\t0.174316\n",
            "TRrain Epoch: 3 [46000 /60000 (77%)]\t0.264501\n",
            "TRrain Epoch: 3 [48000 /60000 (80%)]\t0.168750\n",
            "TRrain Epoch: 3 [50000 /60000 (83%)]\t0.205955\n",
            "TRrain Epoch: 3 [52000 /60000 (87%)]\t0.130646\n",
            "TRrain Epoch: 3 [54000 /60000 (90%)]\t0.382359\n",
            "TRrain Epoch: 3 [56000 /60000 (93%)]\t0.156910\n",
            "TRrain Epoch: 3 [58000 /60000 (97%)]\t0.157072\n",
            "\n",
            "Test set: Average Loss: 0.000757, Accuracy9754/10000 (98%\n",
            ") \n",
            "TRrain Epoch: 4 [0 /60000 (0%)]\t0.168953\n",
            "TRrain Epoch: 4 [2000 /60000 (3%)]\t0.164644\n",
            "TRrain Epoch: 4 [4000 /60000 (7%)]\t0.208286\n",
            "TRrain Epoch: 4 [6000 /60000 (10%)]\t0.325332\n",
            "TRrain Epoch: 4 [8000 /60000 (13%)]\t0.181038\n",
            "TRrain Epoch: 4 [10000 /60000 (17%)]\t0.215216\n",
            "TRrain Epoch: 4 [12000 /60000 (20%)]\t0.213602\n",
            "TRrain Epoch: 4 [14000 /60000 (23%)]\t0.221014\n",
            "TRrain Epoch: 4 [16000 /60000 (27%)]\t0.341085\n",
            "TRrain Epoch: 4 [18000 /60000 (30%)]\t0.147988\n",
            "TRrain Epoch: 4 [20000 /60000 (33%)]\t0.128927\n",
            "TRrain Epoch: 4 [22000 /60000 (37%)]\t0.233795\n",
            "TRrain Epoch: 4 [24000 /60000 (40%)]\t0.189049\n",
            "TRrain Epoch: 4 [26000 /60000 (43%)]\t0.239084\n",
            "TRrain Epoch: 4 [28000 /60000 (47%)]\t0.218911\n",
            "TRrain Epoch: 4 [30000 /60000 (50%)]\t0.286886\n",
            "TRrain Epoch: 4 [32000 /60000 (53%)]\t0.285331\n",
            "TRrain Epoch: 4 [34000 /60000 (57%)]\t0.151591\n",
            "TRrain Epoch: 4 [36000 /60000 (60%)]\t0.326199\n",
            "TRrain Epoch: 4 [38000 /60000 (63%)]\t0.147916\n",
            "TRrain Epoch: 4 [40000 /60000 (67%)]\t0.203838\n",
            "TRrain Epoch: 4 [42000 /60000 (70%)]\t0.289078\n",
            "TRrain Epoch: 4 [44000 /60000 (73%)]\t0.276862\n",
            "TRrain Epoch: 4 [46000 /60000 (77%)]\t0.226322\n",
            "TRrain Epoch: 4 [48000 /60000 (80%)]\t0.110084\n",
            "TRrain Epoch: 4 [50000 /60000 (83%)]\t0.187082\n",
            "TRrain Epoch: 4 [52000 /60000 (87%)]\t0.125959\n",
            "TRrain Epoch: 4 [54000 /60000 (90%)]\t0.319638\n",
            "TRrain Epoch: 4 [56000 /60000 (93%)]\t0.186157\n",
            "TRrain Epoch: 4 [58000 /60000 (97%)]\t0.105256\n",
            "\n",
            "Test set: Average Loss: 0.000718, Accuracy9779/10000 (98%\n",
            ") \n",
            "TRrain Epoch: 5 [0 /60000 (0%)]\t0.172827\n",
            "TRrain Epoch: 5 [2000 /60000 (3%)]\t0.202603\n",
            "TRrain Epoch: 5 [4000 /60000 (7%)]\t0.159060\n",
            "TRrain Epoch: 5 [6000 /60000 (10%)]\t0.116227\n",
            "TRrain Epoch: 5 [8000 /60000 (13%)]\t0.161728\n",
            "TRrain Epoch: 5 [10000 /60000 (17%)]\t0.378674\n",
            "TRrain Epoch: 5 [12000 /60000 (20%)]\t0.210496\n",
            "TRrain Epoch: 5 [14000 /60000 (23%)]\t0.235957\n",
            "TRrain Epoch: 5 [16000 /60000 (27%)]\t0.342787\n",
            "TRrain Epoch: 5 [18000 /60000 (30%)]\t0.167367\n",
            "TRrain Epoch: 5 [20000 /60000 (33%)]\t0.156013\n",
            "TRrain Epoch: 5 [22000 /60000 (37%)]\t0.198879\n",
            "TRrain Epoch: 5 [24000 /60000 (40%)]\t0.163103\n",
            "TRrain Epoch: 5 [26000 /60000 (43%)]\t0.216535\n",
            "TRrain Epoch: 5 [28000 /60000 (47%)]\t0.167034\n",
            "TRrain Epoch: 5 [30000 /60000 (50%)]\t0.309820\n",
            "TRrain Epoch: 5 [32000 /60000 (53%)]\t0.266875\n",
            "TRrain Epoch: 5 [34000 /60000 (57%)]\t0.214789\n",
            "TRrain Epoch: 5 [36000 /60000 (60%)]\t0.154381\n",
            "TRrain Epoch: 5 [38000 /60000 (63%)]\t0.071392\n",
            "TRrain Epoch: 5 [40000 /60000 (67%)]\t0.286190\n",
            "TRrain Epoch: 5 [42000 /60000 (70%)]\t0.098828\n",
            "TRrain Epoch: 5 [44000 /60000 (73%)]\t0.200934\n",
            "TRrain Epoch: 5 [46000 /60000 (77%)]\t0.206745\n",
            "TRrain Epoch: 5 [48000 /60000 (80%)]\t0.141963\n",
            "TRrain Epoch: 5 [50000 /60000 (83%)]\t0.171283\n",
            "TRrain Epoch: 5 [52000 /60000 (87%)]\t0.231033\n",
            "TRrain Epoch: 5 [54000 /60000 (90%)]\t0.190615\n",
            "TRrain Epoch: 5 [56000 /60000 (93%)]\t0.184089\n",
            "TRrain Epoch: 5 [58000 /60000 (97%)]\t0.121641\n",
            "\n",
            "Test set: Average Loss: 0.000610, Accuracy9811/10000 (98%\n",
            ") \n",
            "TRrain Epoch: 6 [0 /60000 (0%)]\t0.207360\n",
            "TRrain Epoch: 6 [2000 /60000 (3%)]\t0.113139\n",
            "TRrain Epoch: 6 [4000 /60000 (7%)]\t0.101860\n",
            "TRrain Epoch: 6 [6000 /60000 (10%)]\t0.237784\n",
            "TRrain Epoch: 6 [8000 /60000 (13%)]\t0.099251\n",
            "TRrain Epoch: 6 [10000 /60000 (17%)]\t0.240545\n",
            "TRrain Epoch: 6 [12000 /60000 (20%)]\t0.180575\n",
            "TRrain Epoch: 6 [14000 /60000 (23%)]\t0.135025\n",
            "TRrain Epoch: 6 [16000 /60000 (27%)]\t0.261903\n",
            "TRrain Epoch: 6 [18000 /60000 (30%)]\t0.163905\n",
            "TRrain Epoch: 6 [20000 /60000 (33%)]\t0.161971\n",
            "TRrain Epoch: 6 [22000 /60000 (37%)]\t0.158294\n",
            "TRrain Epoch: 6 [24000 /60000 (40%)]\t0.147151\n",
            "TRrain Epoch: 6 [26000 /60000 (43%)]\t0.102838\n",
            "TRrain Epoch: 6 [28000 /60000 (47%)]\t0.171183\n",
            "TRrain Epoch: 6 [30000 /60000 (50%)]\t0.293795\n",
            "TRrain Epoch: 6 [32000 /60000 (53%)]\t0.120201\n",
            "TRrain Epoch: 6 [34000 /60000 (57%)]\t0.227995\n",
            "TRrain Epoch: 6 [36000 /60000 (60%)]\t0.212082\n",
            "TRrain Epoch: 6 [38000 /60000 (63%)]\t0.276230\n",
            "TRrain Epoch: 6 [40000 /60000 (67%)]\t0.353667\n",
            "TRrain Epoch: 6 [42000 /60000 (70%)]\t0.095421\n",
            "TRrain Epoch: 6 [44000 /60000 (73%)]\t0.329800\n",
            "TRrain Epoch: 6 [46000 /60000 (77%)]\t0.141055\n",
            "TRrain Epoch: 6 [48000 /60000 (80%)]\t0.100208\n",
            "TRrain Epoch: 6 [50000 /60000 (83%)]\t0.230650\n",
            "TRrain Epoch: 6 [52000 /60000 (87%)]\t0.328629\n",
            "TRrain Epoch: 6 [54000 /60000 (90%)]\t0.345634\n",
            "TRrain Epoch: 6 [56000 /60000 (93%)]\t0.164909\n",
            "TRrain Epoch: 6 [58000 /60000 (97%)]\t0.260148\n",
            "\n",
            "Test set: Average Loss: 0.000560, Accuracy9837/10000 (98%\n",
            ") \n",
            "TRrain Epoch: 7 [0 /60000 (0%)]\t0.091559\n",
            "TRrain Epoch: 7 [2000 /60000 (3%)]\t0.310987\n",
            "TRrain Epoch: 7 [4000 /60000 (7%)]\t0.151475\n",
            "TRrain Epoch: 7 [6000 /60000 (10%)]\t0.102082\n",
            "TRrain Epoch: 7 [8000 /60000 (13%)]\t0.146355\n",
            "TRrain Epoch: 7 [10000 /60000 (17%)]\t0.228780\n",
            "TRrain Epoch: 7 [12000 /60000 (20%)]\t0.272989\n",
            "TRrain Epoch: 7 [14000 /60000 (23%)]\t0.225814\n",
            "TRrain Epoch: 7 [16000 /60000 (27%)]\t0.161559\n",
            "TRrain Epoch: 7 [18000 /60000 (30%)]\t0.121136\n",
            "TRrain Epoch: 7 [20000 /60000 (33%)]\t0.172941\n",
            "TRrain Epoch: 7 [22000 /60000 (37%)]\t0.162260\n",
            "TRrain Epoch: 7 [24000 /60000 (40%)]\t0.110118\n",
            "TRrain Epoch: 7 [26000 /60000 (43%)]\t0.184939\n",
            "TRrain Epoch: 7 [28000 /60000 (47%)]\t0.242057\n",
            "TRrain Epoch: 7 [30000 /60000 (50%)]\t0.066828\n",
            "TRrain Epoch: 7 [32000 /60000 (53%)]\t0.133285\n",
            "TRrain Epoch: 7 [34000 /60000 (57%)]\t0.275400\n",
            "TRrain Epoch: 7 [36000 /60000 (60%)]\t0.295157\n",
            "TRrain Epoch: 7 [38000 /60000 (63%)]\t0.098790\n",
            "TRrain Epoch: 7 [40000 /60000 (67%)]\t0.251241\n",
            "TRrain Epoch: 7 [42000 /60000 (70%)]\t0.193995\n",
            "TRrain Epoch: 7 [44000 /60000 (73%)]\t0.290967\n",
            "TRrain Epoch: 7 [46000 /60000 (77%)]\t0.192554\n",
            "TRrain Epoch: 7 [48000 /60000 (80%)]\t0.163462\n",
            "TRrain Epoch: 7 [50000 /60000 (83%)]\t0.042733\n",
            "TRrain Epoch: 7 [52000 /60000 (87%)]\t0.272309\n",
            "TRrain Epoch: 7 [54000 /60000 (90%)]\t0.312673\n",
            "TRrain Epoch: 7 [56000 /60000 (93%)]\t0.134325\n",
            "TRrain Epoch: 7 [58000 /60000 (97%)]\t0.126157\n",
            "\n",
            "Test set: Average Loss: 0.000517, Accuracy9838/10000 (98%\n",
            ") \n",
            "TRrain Epoch: 8 [0 /60000 (0%)]\t0.222336\n",
            "TRrain Epoch: 8 [2000 /60000 (3%)]\t0.105747\n",
            "TRrain Epoch: 8 [4000 /60000 (7%)]\t0.104404\n",
            "TRrain Epoch: 8 [6000 /60000 (10%)]\t0.166228\n",
            "TRrain Epoch: 8 [8000 /60000 (13%)]\t0.119831\n",
            "TRrain Epoch: 8 [10000 /60000 (17%)]\t0.243113\n",
            "TRrain Epoch: 8 [12000 /60000 (20%)]\t0.098950\n",
            "TRrain Epoch: 8 [14000 /60000 (23%)]\t0.073297\n",
            "TRrain Epoch: 8 [16000 /60000 (27%)]\t0.175514\n",
            "TRrain Epoch: 8 [18000 /60000 (30%)]\t0.275605\n",
            "TRrain Epoch: 8 [20000 /60000 (33%)]\t0.180388\n",
            "TRrain Epoch: 8 [22000 /60000 (37%)]\t0.163285\n",
            "TRrain Epoch: 8 [24000 /60000 (40%)]\t0.096581\n",
            "TRrain Epoch: 8 [26000 /60000 (43%)]\t0.315151\n",
            "TRrain Epoch: 8 [28000 /60000 (47%)]\t0.059419\n",
            "TRrain Epoch: 8 [30000 /60000 (50%)]\t0.163356\n",
            "TRrain Epoch: 8 [32000 /60000 (53%)]\t0.100195\n",
            "TRrain Epoch: 8 [34000 /60000 (57%)]\t0.204414\n",
            "TRrain Epoch: 8 [36000 /60000 (60%)]\t0.060176\n",
            "TRrain Epoch: 8 [38000 /60000 (63%)]\t0.177316\n",
            "TRrain Epoch: 8 [40000 /60000 (67%)]\t0.110938\n",
            "TRrain Epoch: 8 [42000 /60000 (70%)]\t0.104743\n",
            "TRrain Epoch: 8 [44000 /60000 (73%)]\t0.159422\n",
            "TRrain Epoch: 8 [46000 /60000 (77%)]\t0.292055\n",
            "TRrain Epoch: 8 [48000 /60000 (80%)]\t0.242115\n",
            "TRrain Epoch: 8 [50000 /60000 (83%)]\t0.074985\n",
            "TRrain Epoch: 8 [52000 /60000 (87%)]\t0.079020\n",
            "TRrain Epoch: 8 [54000 /60000 (90%)]\t0.130748\n",
            "TRrain Epoch: 8 [56000 /60000 (93%)]\t0.228032\n",
            "TRrain Epoch: 8 [58000 /60000 (97%)]\t0.087376\n",
            "\n",
            "Test set: Average Loss: 0.000520, Accuracy9841/10000 (98%\n",
            ") \n",
            "TRrain Epoch: 9 [0 /60000 (0%)]\t0.085334\n",
            "TRrain Epoch: 9 [2000 /60000 (3%)]\t0.073187\n",
            "TRrain Epoch: 9 [4000 /60000 (7%)]\t0.155441\n",
            "TRrain Epoch: 9 [6000 /60000 (10%)]\t0.096497\n",
            "TRrain Epoch: 9 [8000 /60000 (13%)]\t0.094627\n",
            "TRrain Epoch: 9 [10000 /60000 (17%)]\t0.222714\n",
            "TRrain Epoch: 9 [12000 /60000 (20%)]\t0.139221\n",
            "TRrain Epoch: 9 [14000 /60000 (23%)]\t0.154601\n",
            "TRrain Epoch: 9 [16000 /60000 (27%)]\t0.222880\n",
            "TRrain Epoch: 9 [18000 /60000 (30%)]\t0.217648\n",
            "TRrain Epoch: 9 [20000 /60000 (33%)]\t0.199045\n",
            "TRrain Epoch: 9 [22000 /60000 (37%)]\t0.103292\n",
            "TRrain Epoch: 9 [24000 /60000 (40%)]\t0.263162\n",
            "TRrain Epoch: 9 [26000 /60000 (43%)]\t0.096992\n",
            "TRrain Epoch: 9 [28000 /60000 (47%)]\t0.109851\n",
            "TRrain Epoch: 9 [30000 /60000 (50%)]\t0.103243\n",
            "TRrain Epoch: 9 [32000 /60000 (53%)]\t0.153006\n",
            "TRrain Epoch: 9 [34000 /60000 (57%)]\t0.091323\n",
            "TRrain Epoch: 9 [36000 /60000 (60%)]\t0.168498\n",
            "TRrain Epoch: 9 [38000 /60000 (63%)]\t0.087013\n",
            "TRrain Epoch: 9 [40000 /60000 (67%)]\t0.128589\n",
            "TRrain Epoch: 9 [42000 /60000 (70%)]\t0.118648\n",
            "TRrain Epoch: 9 [44000 /60000 (73%)]\t0.139801\n",
            "TRrain Epoch: 9 [46000 /60000 (77%)]\t0.143803\n",
            "TRrain Epoch: 9 [48000 /60000 (80%)]\t0.105418\n",
            "TRrain Epoch: 9 [50000 /60000 (83%)]\t0.151647\n",
            "TRrain Epoch: 9 [52000 /60000 (87%)]\t0.160644\n",
            "TRrain Epoch: 9 [54000 /60000 (90%)]\t0.207727\n",
            "TRrain Epoch: 9 [56000 /60000 (93%)]\t0.191665\n",
            "TRrain Epoch: 9 [58000 /60000 (97%)]\t0.097694\n",
            "\n",
            "Test set: Average Loss: 0.000454, Accuracy9858/10000 (99%\n",
            ") \n",
            "TRrain Epoch: 10 [0 /60000 (0%)]\t0.245165\n",
            "TRrain Epoch: 10 [2000 /60000 (3%)]\t0.189626\n",
            "TRrain Epoch: 10 [4000 /60000 (7%)]\t0.076768\n",
            "TRrain Epoch: 10 [6000 /60000 (10%)]\t0.074118\n",
            "TRrain Epoch: 10 [8000 /60000 (13%)]\t0.086542\n",
            "TRrain Epoch: 10 [10000 /60000 (17%)]\t0.134197\n",
            "TRrain Epoch: 10 [12000 /60000 (20%)]\t0.173589\n",
            "TRrain Epoch: 10 [14000 /60000 (23%)]\t0.085874\n",
            "TRrain Epoch: 10 [16000 /60000 (27%)]\t0.116121\n",
            "TRrain Epoch: 10 [18000 /60000 (30%)]\t0.065303\n",
            "TRrain Epoch: 10 [20000 /60000 (33%)]\t0.151643\n",
            "TRrain Epoch: 10 [22000 /60000 (37%)]\t0.310186\n",
            "TRrain Epoch: 10 [24000 /60000 (40%)]\t0.099385\n",
            "TRrain Epoch: 10 [26000 /60000 (43%)]\t0.166122\n",
            "TRrain Epoch: 10 [28000 /60000 (47%)]\t0.122739\n",
            "TRrain Epoch: 10 [30000 /60000 (50%)]\t0.142033\n",
            "TRrain Epoch: 10 [32000 /60000 (53%)]\t0.090358\n",
            "TRrain Epoch: 10 [34000 /60000 (57%)]\t0.128412\n",
            "TRrain Epoch: 10 [36000 /60000 (60%)]\t0.294142\n",
            "TRrain Epoch: 10 [38000 /60000 (63%)]\t0.146344\n",
            "TRrain Epoch: 10 [40000 /60000 (67%)]\t0.100041\n",
            "TRrain Epoch: 10 [42000 /60000 (70%)]\t0.062959\n",
            "TRrain Epoch: 10 [44000 /60000 (73%)]\t0.196005\n",
            "TRrain Epoch: 10 [46000 /60000 (77%)]\t0.217037\n",
            "TRrain Epoch: 10 [48000 /60000 (80%)]\t0.077470\n",
            "TRrain Epoch: 10 [50000 /60000 (83%)]\t0.140407\n",
            "TRrain Epoch: 10 [52000 /60000 (87%)]\t0.152605\n",
            "TRrain Epoch: 10 [54000 /60000 (90%)]\t0.248666\n",
            "TRrain Epoch: 10 [56000 /60000 (93%)]\t0.112059\n",
            "TRrain Epoch: 10 [58000 /60000 (97%)]\t0.137189\n",
            "\n",
            "Test set: Average Loss: 0.000482, Accuracy9858/10000 (99%\n",
            ") \n"
          ]
        }
      ]
    },
    {
      "cell_type": "code",
      "source": [
        "device"
      ],
      "metadata": {
        "colab": {
          "base_uri": "https://localhost:8080/"
        },
        "id": "JZ9VIMHcISmz",
        "outputId": "99838935-1615-4a0c-f9b2-796d7d095c3c"
      },
      "execution_count": 74,
      "outputs": [
        {
          "output_type": "execute_result",
          "data": {
            "text/plain": [
              "device(type='cuda')"
            ]
          },
          "metadata": {},
          "execution_count": 74
        }
      ]
    },
    {
      "cell_type": "code",
      "source": [
        "import matplotlib.pyplot as plt\n",
        "model.eval()\n",
        "data, target = test_data[2]\n",
        "data= data.unsqueeze(0).to(device)\n",
        "output = model(data)\n",
        "prediction = output.argmax(dim=1, keepdim=True).item()\n",
        "print(f'Prediction: {prediction}')\n",
        "\n",
        "image= data.squeeze(0).squeeze(0).cpu().numpy()\n",
        "\n",
        "plt.imshow(image, cmap='gray')\n",
        "plt.show()"
      ],
      "metadata": {
        "colab": {
          "base_uri": "https://localhost:8080/",
          "height": 447
        },
        "id": "b9uw5d-CIYO1",
        "outputId": "0b1ce282-241f-4019-da3a-c31791ecb278"
      },
      "execution_count": 78,
      "outputs": [
        {
          "output_type": "stream",
          "name": "stdout",
          "text": [
            "Prediction: 1\n"
          ]
        },
        {
          "output_type": "display_data",
          "data": {
            "text/plain": [
              "<Figure size 640x480 with 1 Axes>"
            ],
            "image/png": "[encoded data removed]"
          },
          "metadata": {}
        }
      ]
    }
  ]
}