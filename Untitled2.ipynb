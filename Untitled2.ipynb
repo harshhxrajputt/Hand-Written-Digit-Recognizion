{
  "nbformat": 4,
  "nbformat_minor": 0,
  "metadata": {
    "colab": {
      "provenance": [],
      "gpuType": "T4",
      "authorship_tag": "ABX9TyNelIzFRK15s7qDvQC0bIhC",
      "include_colab_link": true
    },
    "kernelspec": {
      "name": "python3",
      "display_name": "Python 3"
    },
    "language_info": {
      "name": "python"
    },
    "accelerator": "GPU"
  },
  "cells": [
    {
      "cell_type": "markdown",
      "metadata": {
        "id": "view-in-github",
        "colab_type": "text"
      },
      "source": [
        "<a href=\"https://colab.research.google.com/github/harshhxrajputt/Pytorch/blob/main/Untitled2.ipynb\" target=\"_parent\"><img src=\"https://colab.research.google.com/assets/colab-badge.svg\" alt=\"Open In Colab\"/></a>"
      ]
    },
    {
      "cell_type": "code",
      "source": [
        "import torch"
      ],
      "metadata": {
        "id": "stdMUJYW_FAc"
      },
      "execution_count": 2,
      "outputs": []
    },
    {
      "cell_type": "code",
      "source": [
        "tensor_3d = torch.randn(2,3,4)\n",
        "tensor_3d"
      ],
      "metadata": {
        "colab": {
          "base_uri": "https://localhost:8080/"
        },
        "id": "GSxyLlTTLyzb",
        "outputId": "89dd0d51-2f9d-4ac4-f661-7b1f968f96b6"
      },
      "execution_count": 3,
      "outputs": [
        {
          "output_type": "execute_result",
          "data": {
            "text/plain": [
              "tensor([[[-0.8474, -0.0234,  1.7593,  1.3133],\n",
              "         [-0.7829,  1.0364,  1.5146, -0.3064],\n",
              "         [-0.0050,  1.2561, -1.0522, -0.2368]],\n",
              "\n",
              "        [[ 0.4788,  1.5765, -1.0716,  1.1664],\n",
              "         [-0.5900,  0.9291, -0.1447,  0.2898],\n",
              "         [-0.6851,  0.9923, -1.2317,  0.0301]]])"
            ]
          },
          "metadata": {},
          "execution_count": 3
        }
      ]
    },
    {
      "cell_type": "markdown",
      "source": [
        "my_torch = torch.arange(10)\n",
        "my_torch"
      ],
      "metadata": {
        "id": "5V3V3lejTGI9"
      }
    },
    {
      "cell_type": "code",
      "source": [
        "my_torch = my_torch.reshape(2,5)\n",
        "my_torch"
      ],
      "metadata": {
        "colab": {
          "base_uri": "https://localhost:8080/"
        },
        "id": "z-kSgllMTfss",
        "outputId": "180a3d55-029c-468d-f095-d3eb11870bcf"
      },
      "execution_count": 10,
      "outputs": [
        {
          "output_type": "execute_result",
          "data": {
            "text/plain": [
              "tensor([[0, 1, 2, 3, 4],\n",
              "        [5, 6, 7, 8, 9]])"
            ]
          },
          "metadata": {},
          "execution_count": 10
        }
      ]
    },
    {
      "cell_type": "code",
      "source": [
        "import torch\n",
        "import torch.nn as nn\n",
        "import torch.nn.functional as F"
      ],
      "metadata": {
        "id": "JIt95k5Jdq5q"
      },
      "execution_count": 1,
      "outputs": []
    },
    {
      "cell_type": "code",
      "source": [
        "class Model(nn.Module):\n",
        " def __init__(self,in_features=4,h1=8,h2=9,out_features=3):\n",
        "\n",
        "   super().__init__()\n",
        "   self.fc1=nn.Linear(in_features,h1)\n",
        "   self.fc2=nn.Linear(h1,h2)\n",
        "   self.out=nn.Linear(h2,out_features)\n",
        "\n",
        " def forward(self,x):\n",
        "   x=F.relu(self.fc1(x))\n",
        "   x=F.relu(self.fc2(x))\n",
        "   x=self.out(x)\n",
        "\n",
        "   return x\n",
        "\n",
        "\n"
      ],
      "metadata": {
        "id": "4w6qVSe5d-8F"
      },
      "execution_count": 14,
      "outputs": []
    },
    {
      "cell_type": "code",
      "source": [
        "torch.manual_seed(40)\n",
        "model = Model()"
      ],
      "metadata": {
        "id": "9oNUrvWff808"
      },
      "execution_count": 15,
      "outputs": []
    }
  ]
}